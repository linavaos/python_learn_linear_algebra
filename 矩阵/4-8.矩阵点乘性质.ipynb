{
 "cells": [
  {
   "cell_type": "markdown",
   "metadata": {},
   "source": [
    "# 矩阵的性质"
   ]
  },
  {
   "cell_type": "markdown",
   "metadata": {},
   "source": [
    "$$\n",
    "\n",
    "\\text{矩阵乘法不遵守交换律：} \\quad A \\cdot B \\neq B \\cdot A\n",
    "\n",
    "\\\\\n",
    "\n",
    "\\text{矩阵乘法遵守：}\n",
    "\\begin{align*}\n",
    "(A \\cdot B) \\cdot C &= A \\cdot (B \\cdot C) \\\\\n",
    "A \\cdot (B + C) &= A \\cdot B + A \\cdot C \\\\\n",
    "(B + C) \\cdot A &= B \\cdot A + C \\cdot A\n",
    "\\end{align*}\n",
    "\n",
    "\\\\\n",
    "\n",
    "\\text{对任意 } r \\times c \\text{ 的矩阵 } A, \\text{ 存在 } c \\times x \\text{ 的矩阵 } O, 会生成一个 r \\times x 的零矩阵\n",
    "\n",
    "\n",
    "$$"
   ]
  }
 ],
 "metadata": {
  "language_info": {
   "name": "python"
  }
 },
 "nbformat": 4,
 "nbformat_minor": 2
}
