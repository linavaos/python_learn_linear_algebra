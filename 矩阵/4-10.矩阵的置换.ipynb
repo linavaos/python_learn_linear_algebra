{
 "cells": [
  {
   "cell_type": "markdown",
   "metadata": {},
   "source": [
    "# 什么是矩阵置换\n",
    "简单说就是行变成列，列变成行。"
   ]
  },
  {
   "cell_type": "markdown",
   "metadata": {},
   "source": [
    "# 为什么要置换\n",
    "* 通常我们表示一个矩阵行表示特征也就是不同变量$x_1、x_2$。对于坐标来说就是x和y(通常我们把上标作为变量的连续和离散的样本值)"
   ]
  },
  {
   "cell_type": "markdown",
   "metadata": {},
   "source": [
    "* 现在我要去将x扩大a倍，y扩大b倍。但是通常我们获得的是单独x的样本。和y的样本\n",
    "* 现在我可以先组成矩阵\n",
    "$$\n",
    "T=\n",
    "\\begin{pmatrix}\n",
    "x^{(1)},x^{(2)}....,x^{(n)}\n",
    "\\\\\n",
    "y^{(1)},y^{(2)}....,y^{(n)}\n",
    "\\end{pmatrix}\n",
    "$$"
   ]
  },
  {
   "cell_type": "markdown",
   "metadata": {},
   "source": [
    "* 首先从数据科学来说上面的矩阵需要进行置换成每一行为关于x和y的样本。\n",
    "* 其次如果要扩大肯定是乘以一个有a和b的矩阵P。之前也说了T的列等于P的行。现在矩阵根本无法确定T的列有多少。如果变成了\n",
    "$$\n",
    "T^T=\n",
    "\\begin{pmatrix}\n",
    "x^{(1)},y^{(1)}\n",
    "\\\\\n",
    ".....\n",
    "\\\\\n",
    "x^{(n)},y^{(n)}\n",
    "\\end{pmatrix}\n",
    "$$\n",
    "\n",
    "$$"
   ]
  },
  {
   "cell_type": "markdown",
   "metadata": {},
   "source": [
    "* 此时只要\n",
    "\n",
    "$$\n",
    "T^T \\cdot P=\n",
    "\\begin{pmatrix}\n",
    "x^{(1)},y^{(1)}\n",
    "\\\\\n",
    ".....\n",
    "\\\\\n",
    "x^{(n)},y^{(n)}\n",
    "\\end{pmatrix}\n",
    "\\cdot\n",
    "\\begin{pmatrix}\n",
    "a,0\n",
    "\\\\\n",
    "0,b\n",
    "\\end{pmatrix}\n",
    "=\n",
    "\\begin{pmatrix}\n",
    "ax^{(1)},by^{(1)}\n",
    "\\\\\n",
    "...\n",
    "\\\\\n",
    "ax^{(n)},by^{(n)}\n",
    "\\end{pmatrix}\n",
    "$$\n",
    "\n"
   ]
  },
  {
   "cell_type": "markdown",
   "metadata": {},
   "source": [
    "# 矩阵置换性质\n",
    "$$\n",
    "\\begin{aligned}\n",
    "( A^T )^T &= A \\\\\n",
    "( A + B )^T &= A^T + B^T \\\\\n",
    "(k \\cdot A )^T &= k \\cdot A^T \\\\\n",
    "( A \\cdot B )^T &= B^T \\cdot A^T\n",
    "\\end{aligned}\n",
    "\n",
    "$$\n"
   ]
  },
  {
   "cell_type": "markdown",
   "metadata": {},
   "source": [
    "举例证明$( A \\cdot B )^T = B^T \\cdot A^T $\n",
    "* 假设A是r*m的矩阵，B是m*c的矩阵\n",
    "* 左侧置换后=c*r\n",
    "* 右侧要是=c*r。只能将A和B对调后进行分别置换\n"
   ]
  }
 ],
 "metadata": {
  "language_info": {
   "name": "python"
  }
 },
 "nbformat": 4,
 "nbformat_minor": 2
}
