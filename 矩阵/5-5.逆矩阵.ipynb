{
 "cells": [
  {
   "cell_type": "markdown",
   "metadata": {},
   "source": [
    "# 逆矩阵\n",
    "* 存在一个矩阵B,满足以下如下条件就是逆矩阵。\n",
    "$$\n",
    "B \\cdot A = A \\cdot B = I\n",
    "\\\\\n",
    "I 为单位向量\n",
    "$$\n"
   ]
  },
  {
   "cell_type": "markdown",
   "metadata": {},
   "source": [
    "# 左逆矩阵、右逆矩阵\n",
    "* 如果 $B \\cdot A =I,I为单位矩阵，则B是A的左逆矩阵 $,\n",
    "* 如果 $A \\cdot C =J,J为单位矩阵，则C是A的右逆矩阵 $\n"
   ]
  },
  {
   "cell_type": "markdown",
   "metadata": {},
   "source": [
    "* 如果A矩阵，存在左逆矩阵B，且存在右逆矩阵C，则I=J,且B=C,且就是A的逆矩阵,证明如下\n"
   ]
  },
  {
   "cell_type": "markdown",
   "metadata": {},
   "source": [
    "$$\n",
    "A \\cdot C =J\n",
    "\\\\\n",
    "\\text{上式,同时点乘B向量:}\n",
    "B \\cdot A \\cdot C   = B  \\cdot  J\n",
    "\\\\\n",
    "\\text{因为:} B \\cdot A =I\n",
    "\\\\\n",
    "\\text{所以:} I \\cdot C =  B  \\cdot  J\n",
    "\\\\\n",
    "\\text{因为:} I,J都是单位向量\n",
    "\\\\\n",
    "\\text{所以:} C =  B \n",
    "\\\\\n",
    "\\text{所以:原题得证}\n",
    "$$"
   ]
  },
  {
   "cell_type": "markdown",
   "metadata": {},
   "source": [
    "* 同时通过左右矩阵存在，则逆矩阵存在的证明过程中，我们也可以得到，逆矩阵一定是一个方阵"
   ]
  },
  {
   "cell_type": "markdown",
   "metadata": {},
   "source": [
    "\n",
    "* 当然，非方阵和另一个矩阵点乘，一定不是不可以逆，因为最后生成的矩阵行列都不一样。并且左逆或者右逆矩阵一定有一个无法计算出来"
   ]
  },
  {
   "cell_type": "markdown",
   "metadata": {},
   "source": [
    "# 其他性质\n",
    "* $A^0=I$,证明\n",
    "$$\n",
    "A^{-1} \\cdot A^1= A^1 \\cdot A^{-1} = I\n",
    "$$"
   ]
  }
 ],
 "metadata": {
  "language_info": {
   "name": "python"
  }
 },
 "nbformat": 4,
 "nbformat_minor": 2
}
