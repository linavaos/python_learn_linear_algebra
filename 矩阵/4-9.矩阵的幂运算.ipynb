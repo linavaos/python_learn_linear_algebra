{
 "cells": [
  {
   "cell_type": "markdown",
   "metadata": {},
   "source": [
    "# 矩阵的幂运算"
   ]
  },
  {
   "cell_type": "markdown",
   "metadata": {},
   "source": [
    "$$\n",
    "\\text{矩阵的幂：} \\quad A^k = \\underbrace{A \\cdot A \\cdots A}_{k}\n",
    "$$"
   ]
  },
  {
   "cell_type": "markdown",
   "metadata": {},
   "source": [
    "* 矩阵A必须是方阵。因为根据矩阵点乘运算我们知道A的列要等于A的行。"
   ]
  },
  {
   "cell_type": "markdown",
   "metadata": {},
   "source": [
    "# 平方和性质"
   ]
  },
  {
   "cell_type": "markdown",
   "metadata": {},
   "source": [
    "$$\n",
    "(A+B)^2 \\neq A^2 +2A\\cdot B+B^2\n",
    "\\\\\n",
    "\\text{而是}\n",
    "\\\\\n",
    "(A+B)^2 = A^2 +A\\cdot B+B\\cdot A+B^2\n",
    "$$\n"
   ]
  },
  {
   "cell_type": "markdown",
   "metadata": {},
   "source": [
    "* 同时说明A和B都是方阵。A的列数等于B的行数，而A和B又是方阵，所以\n",
    "$$A的列=A的行=B的行=B的列$$"
   ]
  }
 ],
 "metadata": {
  "kernelspec": {
   "display_name": "learn_linear",
   "language": "python",
   "name": "python3"
  },
  "language_info": {
   "name": "python",
   "version": "3.8.4"
  }
 },
 "nbformat": 4,
 "nbformat_minor": 2
}
