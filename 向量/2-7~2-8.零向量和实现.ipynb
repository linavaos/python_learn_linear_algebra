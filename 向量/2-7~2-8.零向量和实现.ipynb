{
 "cells": [
  {
   "cell_type": "markdown",
   "metadata": {},
   "source": [
    "# 零向量\n",
    "* 所有维度都为0的向量\n",
    "* 0向量没有方向。用字母O表示"
   ]
  },
  {
   "cell_type": "markdown",
   "metadata": {},
   "source": [
    "# 零向量代码实现\n",
    "```python\n",
    "    @classmethod\n",
    "    def zero(cls,dim):\n",
    "        # cls就是当前类、加()就是实列化啦\n",
    "        return cls([0]*dim)    \n",
    "```"
   ]
  }
 ],
 "metadata": {
  "language_info": {
   "name": "python"
  }
 },
 "nbformat": 4,
 "nbformat_minor": 2
}
