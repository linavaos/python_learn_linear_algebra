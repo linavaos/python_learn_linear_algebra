{
 "cells": [
  {
   "cell_type": "markdown",
   "metadata": {},
   "source": [
    "# 前缀python知识 "
   ]
  },
  {
   "cell_type": "markdown",
   "metadata": {},
   "source": [
    "## zip方法\n",
    "* 就是将多个可迭代对象,对应的元素打包成一个个元组。最终返回list(python2)或迭代器\n",
    "(python3)\n",
    "* 要求长度一致，如果不一致。以长度少的数组长度截取\n"
   ]
  },
  {
   "cell_type": "code",
   "execution_count": 1,
   "metadata": {},
   "outputs": [
    {
     "data": {
      "text/plain": [
       "(1, 7, 11)"
      ]
     },
     "metadata": {},
     "output_type": "display_data"
    },
    {
     "data": {
      "text/plain": [
       "(2, 8, 12)"
      ]
     },
     "metadata": {},
     "output_type": "display_data"
    },
    {
     "data": {
      "text/plain": [
       "(3, 9, 13)"
      ]
     },
     "metadata": {},
     "output_type": "display_data"
    }
   ],
   "source": [
    "a=[1,2,3]\n",
    "b=[7,8,9]\n",
    "c=[11,12,13,14]\n",
    "abc=zip(a,b,c)\n",
    "for o in abc:\n",
    "    display(o)"
   ]
  },
  {
   "cell_type": "markdown",
   "metadata": {},
   "source": [
    "## python魔法方法 object.__iter__(self)\n",
    "* 简单来说就是当对对象进行遍历的时候会自动调用该方法\n",
    "* 该方法返回一个可迭代对象\n"
   ]
  },
  {
   "cell_type": "markdown",
   "metadata": {},
   "source": [
    "# 向量加法实现\n",
    "* 复写魔改方法__add__使用此方法可以使用\n",
    "* 复写迭代方法，返回传入数组\n"
   ]
  },
  {
   "cell_type": "code",
   "execution_count": null,
   "metadata": {},
   "outputs": [],
   "source": []
  },
  {
   "cell_type": "code",
   "execution_count": 1,
   "metadata": {},
   "outputs": [
    {
     "ename": "ModuleNotFoundError",
     "evalue": "No module named 'LinearAlgebra'",
     "output_type": "error",
     "traceback": [
      "\u001b[1;31m---------------------------------------------------------------------------\u001b[0m",
      "\u001b[1;31mModuleNotFoundError\u001b[0m                       Traceback (most recent call last)",
      "Cell \u001b[1;32mIn[1], line 1\u001b[0m\n\u001b[1;32m----> 1\u001b[0m \u001b[38;5;28;01mfrom\u001b[39;00m \u001b[38;5;21;01mLinearAlgebra\u001b[39;00m\u001b[38;5;21;01m.\u001b[39;00m\u001b[38;5;21;01mplayLA\u001b[39;00m\u001b[38;5;21;01m.\u001b[39;00m\u001b[38;5;21;01mvector\u001b[39;00m \u001b[38;5;28;01mimport\u001b[39;00m Vector\n\u001b[0;32m      2\u001b[0m a\u001b[38;5;241m=\u001b[39mVector[\u001b[38;5;241m1\u001b[39m,\u001b[38;5;241m2\u001b[39m,\u001b[38;5;241m3\u001b[39m]\n\u001b[0;32m      3\u001b[0m b\u001b[38;5;241m=\u001b[39mVector[\u001b[38;5;241m4\u001b[39m,\u001b[38;5;241m5\u001b[39m,\u001b[38;5;241m5\u001b[39m]\n",
      "\u001b[1;31mModuleNotFoundError\u001b[0m: No module named 'LinearAlgebra'"
     ]
    }
   ],
   "source": [
    "from LinearAlgebra.playLA.vector import Vector\n",
    "a=Vector[1,2,3]\n",
    "b=Vector[4,5,5]\n",
    "a+b\n",
    "\n"
   ]
  },
  {
   "cell_type": "markdown",
   "metadata": {},
   "source": []
  }
 ],
 "metadata": {
  "kernelspec": {
   "display_name": "learn_linear",
   "language": "python",
   "name": "python3"
  },
  "language_info": {
   "codemirror_mode": {
    "name": "ipython",
    "version": 3
   },
   "file_extension": ".py",
   "mimetype": "text/x-python",
   "name": "python",
   "nbconvert_exporter": "python",
   "pygments_lexer": "ipython3",
   "version": "3.8.4"
  }
 },
 "nbformat": 4,
 "nbformat_minor": 2
}
