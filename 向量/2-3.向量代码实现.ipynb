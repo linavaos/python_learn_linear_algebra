{
 "cells": [
  {
   "cell_type": "markdown",
   "metadata": {},
   "source": [
    "# 向量代码实现一个Vector对象\n"
   ]
  },
  {
   "cell_type": "code",
   "execution_count": 6,
   "metadata": {},
   "outputs": [
    {
     "data": {
      "text/plain": [
       "2"
      ]
     },
     "metadata": {},
     "output_type": "display_data"
    },
    {
     "data": {
      "text/plain": [
       "Vector([3, 4])"
      ]
     },
     "metadata": {},
     "output_type": "display_data"
    },
    {
     "name": "stdout",
     "output_type": "stream",
     "text": [
      "(3,4)\n"
     ]
    },
    {
     "data": {
      "text/plain": [
       "4"
      ]
     },
     "metadata": {},
     "output_type": "display_data"
    }
   ],
   "source": [
    "class Vector:\n",
    "    def __init__(self,list) -> None:\n",
    "        self._values = list\n",
    "\n",
    "    def __add__():\n",
    "            \n",
    "\n",
    "    # 实际对应调用者是,item[index]\n",
    "    def __getitem__(self,index):\n",
    "        return self._values[index]\n",
    "\n",
    "\n",
    "    def __len__(self):\n",
    "        return len(self._values)\n",
    "\n",
    "    # python中用于返回对象字符串形式\n",
    "    #  更加正式，适用于开发和调试\n",
    "    #  比如debug的时候、display\n",
    "    def __repr__(self) -> str:\n",
    "        return \"Vector({})\".format(self._values)\n",
    "    \n",
    "    # python中用于返回对象字符串形式\n",
    "    # 更加非正式，适用于用户。通常print调用这个\n",
    "    # 如果没有__str__则会调用__repr__\n",
    "    def __str__(self) -> str:\n",
    "        return \"({})\".format(\",\".join(str(e) for e in self._values))\n",
    "\n",
    "v = Vector([3,4])\n",
    "display(len(v))\n",
    "display(v)\n",
    "print(v)\n",
    "display(v[1])\n"
   ]
  }
 ],
 "metadata": {
  "kernelspec": {
   "display_name": "learn_linear",
   "language": "python",
   "name": "python3"
  },
  "language_info": {
   "codemirror_mode": {
    "name": "ipython",
    "version": 3
   },
   "file_extension": ".py",
   "mimetype": "text/x-python",
   "name": "python",
   "nbconvert_exporter": "python",
   "pygments_lexer": "ipython3",
   "version": "3.8.4"
  }
 },
 "nbformat": 4,
 "nbformat_minor": 2
}
