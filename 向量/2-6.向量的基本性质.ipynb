{
 "cells": [
  {
   "cell_type": "markdown",
   "metadata": {},
   "source": [
    "# 基本性质\n",
    "$$\n",
    "\\begin{align*}  \n",
    "\\bar{u} + \\bar{v} & = \\bar{v} + \\bar{u} \\\\\n",
    "(\\bar{u} + \\bar{v}) + \\bar{w} & = \\bar{u} + (\\bar{v} + \\bar{w}) \\\\\n",
    "(k + c)\\bar{u} & = k\\bar{u} + c\\bar{u} \\\\\n",
    "(kc)\\bar{u} & = k(c\\bar{u}) \\\\\n",
    "k(\\bar{u} + \\bar{v}) & = k\\bar{u} + k\\bar{v} \\\\\n",
    "1\\bar{u} & = \\bar{u}  \n",
    "\\end{align*}\n",
    "$$"
   ]
  }
 ],
 "metadata": {
  "language_info": {
   "name": "python"
  }
 },
 "nbformat": 4,
 "nbformat_minor": 2
}
