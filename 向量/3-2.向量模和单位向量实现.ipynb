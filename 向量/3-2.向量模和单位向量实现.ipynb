{
 "cells": [
  {
   "cell_type": "markdown",
   "metadata": {},
   "source": [
    "# 向量长度（模）实现\n",
    "```python\n",
    "def norm(self):\n",
    "    return math.sqrt(sum([e*e for e in self]))    \n",
    "```"
   ]
  },
  {
   "cell_type": "code",
   "execution_count": 5,
   "metadata": {},
   "outputs": [
    {
     "data": {
      "text/plain": [
       "5.0"
      ]
     },
     "metadata": {},
     "output_type": "display_data"
    }
   ],
   "source": [
    "from LinearAlgebra.playLA.vector import Vector\n",
    "a=Vector([3,4])\n",
    "display(a.norm())"
   ]
  },
  {
   "cell_type": "markdown",
   "metadata": {},
   "source": [
    "# 单位向量实现\n",
    "```python\n",
    "def normalize(self):\n",
    "    return Vector([e/self.norm() for e in self])\n",
    "```"
   ]
  },
  {
   "cell_type": "code",
   "execution_count": 6,
   "metadata": {},
   "outputs": [
    {
     "data": {
      "text/plain": [
       "Vector([0.6, 0.8])"
      ]
     },
     "metadata": {},
     "output_type": "display_data"
    },
    {
     "data": {
      "text/plain": [
       "1.0"
      ]
     },
     "metadata": {},
     "output_type": "display_data"
    }
   ],
   "source": [
    "from LinearAlgebra.playLA.vector import Vector\n",
    "a=Vector([3,4])\n",
    "display(a.normalize())\n",
    "# 单位向量模为1\n",
    "display(a.normalize().norm())"
   ]
  },
  {
   "cell_type": "markdown",
   "metadata": {},
   "source": [
    "# 当对0向量取单位向量的bug修改\n",
    "* 定义一个误差EPSILON且只要包内可访问的。\n",
    "    * 创建_global.py。创建遍历\n",
    "* 修改单位向量计算添加0判断\n",
    "```python\n",
    "   def normalize(self):\n",
    "        if self.norm()<Ellipsis:\n",
    "            raise ZeroDivisionError(\"noraml is zero\")\n",
    "        return Vector([e/self.norm() for e in self])\n",
    "```\n"
   ]
  }
 ],
 "metadata": {
  "kernelspec": {
   "display_name": "learn_linear",
   "language": "python",
   "name": "python3"
  },
  "language_info": {
   "codemirror_mode": {
    "name": "ipython",
    "version": 3
   },
   "file_extension": ".py",
   "mimetype": "text/x-python",
   "name": "python",
   "nbconvert_exporter": "python",
   "pygments_lexer": "ipython3",
   "version": "3.8.4"
  }
 },
 "nbformat": 4,
 "nbformat_minor": 2
}
